{
  "nbformat": 4,
  "nbformat_minor": 0,
  "metadata": {
    "colab": {
      "provenance": []
    },
    "kernelspec": {
      "name": "python3",
      "display_name": "Python 3"
    },
    "language_info": {
      "name": "python"
    }
  },
  "cells": [
    {
      "cell_type": "markdown",
      "source": [],
      "metadata": {
        "id": "PrnU8op5QEYC"
      }
    },
    {
      "cell_type": "code",
      "execution_count": 1,
      "metadata": {
        "id": "Ix1Hv9RDPtL3"
      },
      "outputs": [],
      "source": [
        "# Pytorch Workflow"
      ]
    },
    {
      "cell_type": "markdown",
      "source": [],
      "metadata": {
        "id": "fKFRkJVrQDpI"
      }
    },
    {
      "cell_type": "code",
      "source": [
        "import torch\n",
        "from torch import nn # nn contains torch's neural networks\n",
        "import matplotlib.pyplot as plt\n",
        "\n",
        "# check pytorch version\n",
        "torch.__version__"
      ],
      "metadata": {
        "colab": {
          "base_uri": "https://localhost:8080/",
          "height": 35
        },
        "id": "HOeqjYgyQDaT",
        "outputId": "276725d6-d883-4726-d225-5d1cf9aa26f2"
      },
      "execution_count": 2,
      "outputs": [
        {
          "output_type": "execute_result",
          "data": {
            "text/plain": [
              "'2.1.0+cu121'"
            ],
            "application/vnd.google.colaboratory.intrinsic+json": {
              "type": "string"
            }
          },
          "metadata": {},
          "execution_count": 2
        }
      ]
    },
    {
      "cell_type": "code",
      "source": [],
      "metadata": {
        "id": "rmfWbuvoRReN"
      },
      "execution_count": 2,
      "outputs": []
    },
    {
      "cell_type": "markdown",
      "source": [],
      "metadata": {
        "id": "3BE38pejRVsd"
      }
    },
    {
      "cell_type": "markdown",
      "source": [
        "## 1. Data (preparing and loading)\n",
        "\n",
        "ML is a game of two parts:\n",
        "1. Get data into a numerical representation\n",
        "2. Biuld a model to learn patterns in that numeral data"
      ],
      "metadata": {
        "id": "AJNR2_PPRXFm"
      }
    },
    {
      "cell_type": "code",
      "source": [],
      "metadata": {
        "id": "rFkSt3QqRC58"
      },
      "execution_count": 2,
      "outputs": []
    },
    {
      "cell_type": "markdown",
      "source": [
        "# First Model\n",
        "Using linear regression with known **paremters** to train a basic model\n",
        "\n"
      ],
      "metadata": {
        "id": "qMWDaYBlRt18"
      }
    },
    {
      "cell_type": "code",
      "source": [
        "## Create *known* parameters\n",
        "weight = 0.7\n",
        "bias = 0.3\n",
        "\n",
        "## Create\n",
        "start = 0\n",
        "end = 1\n",
        "step = 0.02\n",
        "X = torch.arange(start, end, step).unsqueeze(dim=1)\n",
        "y = weight * X + bias\n",
        "\n",
        "X[:10], y[:10], len(X), len(y)"
      ],
      "metadata": {
        "colab": {
          "base_uri": "https://localhost:8080/"
        },
        "id": "18BY9pimSFFi",
        "outputId": "d4979a4c-c25e-45e9-951f-cb4309d4d782"
      },
      "execution_count": 3,
      "outputs": [
        {
          "output_type": "execute_result",
          "data": {
            "text/plain": [
              "(tensor([[0.0000],\n",
              "         [0.0200],\n",
              "         [0.0400],\n",
              "         [0.0600],\n",
              "         [0.0800],\n",
              "         [0.1000],\n",
              "         [0.1200],\n",
              "         [0.1400],\n",
              "         [0.1600],\n",
              "         [0.1800]]),\n",
              " tensor([[0.3000],\n",
              "         [0.3140],\n",
              "         [0.3280],\n",
              "         [0.3420],\n",
              "         [0.3560],\n",
              "         [0.3700],\n",
              "         [0.3840],\n",
              "         [0.3980],\n",
              "         [0.4120],\n",
              "         [0.4260]]),\n",
              " 50,\n",
              " 50)"
            ]
          },
          "metadata": {},
          "execution_count": 3
        }
      ]
    },
    {
      "cell_type": "code",
      "source": [],
      "metadata": {
        "id": "32bUbFEaTMVL"
      },
      "execution_count": 3,
      "outputs": []
    },
    {
      "cell_type": "code",
      "source": [
        "## Splitting data into training and test sets (split)\n",
        "### Three Datasets\n",
        "# 1. training set\n",
        "# 2. validation set\n",
        "# 3. test set\n",
        "\n",
        "### Create train/split\n",
        "train_split = int(0.8 * len(X))\n",
        "X_train, y_train, = X[:train_split], y[:train_split]\n",
        "X_test, y_test = X[train_split:], y[train_split:]\n",
        "\n",
        "# training features\n",
        "print(len(X_train))\n",
        "# training labels\n",
        "print(len(y_train))\n",
        "# testing features\n",
        "print(len(X_test))\n",
        "# testing labels\n",
        "print(len(y_test))"
      ],
      "metadata": {
        "colab": {
          "base_uri": "https://localhost:8080/"
        },
        "id": "FL0GaNJRSgMZ",
        "outputId": "e341e2e0-72c1-427b-ebfe-98d91ecfbacd"
      },
      "execution_count": 4,
      "outputs": [
        {
          "output_type": "stream",
          "name": "stdout",
          "text": [
            "40\n",
            "40\n",
            "10\n",
            "10\n"
          ]
        }
      ]
    },
    {
      "cell_type": "code",
      "source": [
        "## Visualize Data\n",
        "\n",
        "def plot_predictions(train_data=X_train,\n",
        "                     train_labels=y_train,\n",
        "                     test_data=X_test,\n",
        "                     test_labels=y_test,\n",
        "                     predictions=None):\n",
        "  \"\"\"\n",
        "  Plots training and test data and compares predictions\n",
        "  \"\"\"\n",
        "\n",
        "  # plot training data in blue\n",
        "  plt.scatter(train_data, train_labels, c=\"b\", s=4, label=\"Training data\")\n",
        "\n",
        "  # plot training data\n",
        "  plt.scatter(test_data, test_labels, c=\"g\", s=4, label=\"Testing data\")\n",
        "\n",
        "  # test for predictions\n",
        "  if predictions is not None:\n",
        "    # plot the predictions\n",
        "    plt.scatter(test_data, predictions, c=\"r\", s=4, label=\"Predictions\")\n",
        "\n",
        "  # show legend\n",
        "  plt.legend(prop={\"size\": 14});"
      ],
      "metadata": {
        "id": "hAj-NbVBTECE"
      },
      "execution_count": 16,
      "outputs": []
    },
    {
      "cell_type": "code",
      "source": [
        "plot_predictions();"
      ],
      "metadata": {
        "colab": {
          "base_uri": "https://localhost:8080/",
          "height": 430
        },
        "id": "1ekHdPmWUsgH",
        "outputId": "badf2f70-27b2-45d6-8648-3b74d0858c1b"
      },
      "execution_count": 6,
      "outputs": [
        {
          "output_type": "display_data",
          "data": {
            "text/plain": [
              "<Figure size 640x480 with 1 Axes>"
            ],
            "image/png": "[encoded data removed]"
          },
          "metadata": {}
        }
      ]
    },
    {
      "cell_type": "code",
      "source": [
        "## Build Linear Regression Model Class\n",
        "\n",
        "class LinearRegressionModel(nn.Module):\n",
        "  def __init__(self):\n",
        "    super().__init__()\n",
        "\n",
        "    # initialize model parameters\n",
        "    self.weights = nn.Parameter(torch.randn(1, # start with a random weight and try to adjust it to the ideal weight\n",
        "                                            requires_grad=True, # can be updated with grandient decent\n",
        "                                            dtype=torch.float))\n",
        "\n",
        "    self.bias = nn.Parameter(torch.rand(1,# start with a random bias and try to adjust it to the ideal bias\n",
        "                                        requires_grad=True,\n",
        "                                        dtype=float))\n",
        "\n",
        "  # forward method to define the computation of the model\n",
        "  # this method always gets called when an instance of the class is called\n",
        "  # and will override the default method\n",
        "  def forward(self, x: torch.Tensor) -> torch.Tensor:\n",
        "    return self.weights * x + self.bias\n",
        "\n",
        "\n"
      ],
      "metadata": {
        "id": "zznnhsYWXwdU"
      },
      "execution_count": 7,
      "outputs": []
    },
    {
      "cell_type": "code",
      "source": [
        "# Inspect the model\n",
        "\n",
        "# Create random seed\n",
        "torch.manual_seed(42)\n",
        "\n",
        "# create an instance of the model\n",
        "model_0 = LinearRegressionModel()\n",
        "\n",
        "list(model_0.parameters())"
      ],
      "metadata": {
        "colab": {
          "base_uri": "https://localhost:8080/"
        },
        "id": "UvdKW_boZBWs",
        "outputId": "c4771580-63e9-4427-c23b-0e100bdb0dc9"
      },
      "execution_count": 8,
      "outputs": [
        {
          "output_type": "execute_result",
          "data": {
            "text/plain": [
              "[Parameter containing:\n",
              " tensor([0.3367], requires_grad=True),\n",
              " Parameter containing:\n",
              " tensor([0.1236], dtype=torch.float64, requires_grad=True)]"
            ]
          },
          "metadata": {},
          "execution_count": 8
        }
      ]
    },
    {
      "cell_type": "code",
      "source": [
        "# list named parameters\n",
        "model_0.state_dict()"
      ],
      "metadata": {
        "colab": {
          "base_uri": "https://localhost:8080/"
        },
        "id": "n3q8MrEsd7nX",
        "outputId": "1ac7ab0f-a60b-4967-95ba-db3be2132b57"
      },
      "execution_count": 9,
      "outputs": [
        {
          "output_type": "execute_result",
          "data": {
            "text/plain": [
              "OrderedDict([('weights', tensor([0.3367])),\n",
              "             ('bias', tensor([0.1236], dtype=torch.float64))])"
            ]
          },
          "metadata": {},
          "execution_count": 9
        }
      ]
    },
    {
      "cell_type": "code",
      "source": [
        "weight, bias\n"
      ],
      "metadata": {
        "colab": {
          "base_uri": "https://localhost:8080/"
        },
        "id": "BA5c509Mevd5",
        "outputId": "35bdda9b-89bd-4db3-f931-9574039f5dd8"
      },
      "execution_count": 10,
      "outputs": [
        {
          "output_type": "execute_result",
          "data": {
            "text/plain": [
              "(0.7, 0.3)"
            ]
          },
          "metadata": {},
          "execution_count": 10
        }
      ]
    },
    {
      "cell_type": "code",
      "source": [
        "# predict y_test based on X_test with current data\n",
        "with torch.inference_mode():\n",
        "\n",
        "  # pass the model test data and save the output\n",
        "  y_preds = model_0(X_test)\n",
        "\n",
        "# print the output\n",
        "y_preds"
      ],
      "metadata": {
        "colab": {
          "base_uri": "https://localhost:8080/"
        },
        "id": "uBM_LMdQe6zB",
        "outputId": "c1125c76-31c3-425a-872d-71ece500e8c3"
      },
      "execution_count": 11,
      "outputs": [
        {
          "output_type": "execute_result",
          "data": {
            "text/plain": [
              "tensor([[0.3929],\n",
              "        [0.3997],\n",
              "        [0.4064],\n",
              "        [0.4131],\n",
              "        [0.4199],\n",
              "        [0.4266],\n",
              "        [0.4333],\n",
              "        [0.4401],\n",
              "        [0.4468],\n",
              "        [0.4535]], dtype=torch.float64)"
            ]
          },
          "metadata": {},
          "execution_count": 11
        }
      ]
    },
    {
      "cell_type": "code",
      "source": [
        "y_test"
      ],
      "metadata": {
        "colab": {
          "base_uri": "https://localhost:8080/"
        },
        "id": "v5DtMrrwfsc5",
        "outputId": "7a263fd2-a343-438c-8c56-6332d71049b1"
      },
      "execution_count": 12,
      "outputs": [
        {
          "output_type": "execute_result",
          "data": {
            "text/plain": [
              "tensor([[0.8600],\n",
              "        [0.8740],\n",
              "        [0.8880],\n",
              "        [0.9020],\n",
              "        [0.9160],\n",
              "        [0.9300],\n",
              "        [0.9440],\n",
              "        [0.9580],\n",
              "        [0.9720],\n",
              "        [0.9860]])"
            ]
          },
          "metadata": {},
          "execution_count": 12
        }
      ]
    },
    {
      "cell_type": "code",
      "source": [
        "# plot the predictions from the untrained model\n",
        "plot_predictions(predictions=y_preds)"
      ],
      "metadata": {
        "colab": {
          "base_uri": "https://localhost:8080/",
          "height": 430
        },
        "id": "KDAe62wFgS_N",
        "outputId": "c05f3c66-48c3-40e7-d559-947f8f0acbca"
      },
      "execution_count": 17,
      "outputs": [
        {
          "output_type": "display_data",
          "data": {
            "text/plain": [
              "<Figure size 640x480 with 1 Axes>"
            ],
            "image/png": "[encoded data removed]"
          },
          "metadata": {}
        }
      ]
    },
    {
      "cell_type": "markdown",
      "source": [
        "## Train the model\n",
        "\n",
        "Things needed:\n",
        "* **Loss Function** - measure of how wrong the model is, lower is better\n",
        "* **Optimizer** takes loss into account and adjusts the model's params\n",
        "* Training loop\n",
        "* Testing loop"
      ],
      "metadata": {
        "id": "PYUyQeKnjVUc"
      }
    },
    {
      "cell_type": "code",
      "source": [
        "# set up loss function\n",
        "loss_fn = nn.L1Loss()\n",
        "\n",
        "# set up an optimizer\n",
        "optimizer = torch.optim.SGD(params=model_0.parameters(),\n",
        "                            lr=0.01) # learning rate. small value will adjust the param in a small step"
      ],
      "metadata": {
        "id": "obMMDntGjTvb"
      },
      "execution_count": 25,
      "outputs": []
    },
    {
      "cell_type": "code",
      "source": [],
      "metadata": {
        "id": "VewsZmnqkWXg"
      },
      "execution_count": null,
      "outputs": []
    },
    {
      "cell_type": "markdown",
      "source": [
        "### Training loop\n",
        "0. loop through data\n",
        "1. forward pass (moove data through the `forward()` functions)\n",
        "2. Calculate lost (compare forward pass prediction to ground truth labels)\n",
        "3. optimizer zero grad\n",
        "4. Loss backward - move backwards through the network to calculate the gradients of each of the params of the model with respect ot the loss\n",
        "5. Optimizer step = use the optimizer ot adjust the model's params and try to improve the loss (**gradient descent**)"
      ],
      "metadata": {
        "id": "AZ_hsiPNnLyn"
      }
    },
    {
      "cell_type": "code",
      "source": [
        "# epoch == loop through the data\n",
        "\n",
        "epochs = 1\n",
        "\n",
        "# 0. loop through data\n",
        "for epoch in range(epochs):\n",
        "  # set the model to training mode\n",
        "  model_0.train() # train mode in PyTorch sets all parameters that require gradients to require gradients\n",
        "\n",
        "  # 1. Forward pass\n",
        "  y_pred = model_0(X_train)\n",
        "\n",
        "  # 2. Calculate Loss\n",
        "  loss = loss_fn(y_pred, y_train)\n",
        "\n",
        "  # 3. Optmizer Zero grad\n",
        "  optimizer.zero_grad()\n",
        "  # 4. Perform backpropagation on the loss iwth repsect to the parameters of the model\n",
        "  loss.backward()\n",
        "\n",
        "  # 5. Step the optimizer (perform gradient descent)\n",
        "  optimizer.step() # by default how the optimizer changes will accumulate through the loop. this will need to be set to zero step three above\n",
        "\n",
        "  # turns of gradient tracking\n",
        "  model_0.eval()"
      ],
      "metadata": {
        "id": "PEgxD1JSnTQB"
      },
      "execution_count": null,
      "outputs": []
    }
  ]
}