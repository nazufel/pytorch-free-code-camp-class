{
  "nbformat": 4,
  "nbformat_minor": 0,
  "metadata": {
    "colab": {
      "provenance": [],
      "gpuType": "T4"
    },
    "kernelspec": {
      "name": "python3",
      "display_name": "Python 3"
    },
    "language_info": {
      "name": "python"
    },
    "accelerator": "GPU"
  },
  "cells": [
    {
      "cell_type": "markdown",
      "source": [],
      "metadata": {
        "id": "PrnU8op5QEYC"
      }
    },
    {
      "cell_type": "code",
      "execution_count": null,
      "metadata": {
        "id": "Ix1Hv9RDPtL3"
      },
      "outputs": [],
      "source": [
        "# Pytorch Workflow"
      ]
    },
    {
      "cell_type": "markdown",
      "source": [],
      "metadata": {
        "id": "fKFRkJVrQDpI"
      }
    },
    {
      "cell_type": "code",
      "source": [
        "import torch\n",
        "from torch import nn # nn contains torch's neural networks\n",
        "import matplotlib.pyplot as plt\n",
        "\n",
        "# check pytorch version\n",
        "torch.__version__"
      ],
      "metadata": {
        "colab": {
          "base_uri": "https://localhost:8080/",
          "height": 35
        },
        "id": "HOeqjYgyQDaT",
        "outputId": "b65eb55a-6645-4646-d184-d5ce752d91e4"
      },
      "execution_count": null,
      "outputs": [
        {
          "output_type": "execute_result",
          "data": {
            "text/plain": [
              "'2.2.1+cu121'"
            ],
            "application/vnd.google.colaboratory.intrinsic+json": {
              "type": "string"
            }
          },
          "metadata": {},
          "execution_count": 2
        }
      ]
    },
    {
      "cell_type": "code",
      "source": [
        "# set up device agnostic code\n",
        "device = \"cuda\" if torch.cuda.is_available() else \"cpu\"\n",
        "print(f\"Using device: {device}\")"
      ],
      "metadata": {
        "id": "rmfWbuvoRReN",
        "colab": {
          "base_uri": "https://localhost:8080/"
        },
        "outputId": "20b39fca-5461-498f-da15-c3de42545219"
      },
      "execution_count": null,
      "outputs": [
        {
          "output_type": "stream",
          "name": "stdout",
          "text": [
            "Using device: cuda\n"
          ]
        }
      ]
    },
    {
      "cell_type": "code",
      "source": [
        "!nvidia-smi"
      ],
      "metadata": {
        "colab": {
          "base_uri": "https://localhost:8080/"
        },
        "id": "6vp2He3rnxOQ",
        "outputId": "0ae6be4c-aca9-4dab-8244-d243bef3f5a3"
      },
      "execution_count": null,
      "outputs": [
        {
          "output_type": "stream",
          "name": "stdout",
          "text": [
            "Thu Mar 14 11:01:27 2024       \n",
            "+---------------------------------------------------------------------------------------+\n",
            "| NVIDIA-SMI 535.104.05             Driver Version: 535.104.05   CUDA Version: 12.2     |\n",
            "|-----------------------------------------+----------------------+----------------------+\n",
            "| GPU  Name                 Persistence-M | Bus-Id        Disp.A | Volatile Uncorr. ECC |\n",
            "| Fan  Temp   Perf          Pwr:Usage/Cap |         Memory-Usage | GPU-Util  Compute M. |\n",
            "|                                         |                      |               MIG M. |\n",
            "|=========================================+======================+======================|\n",
            "|   0  Tesla T4                       Off | 00000000:00:04.0 Off |                    0 |\n",
            "| N/A   51C    P8              12W /  70W |      3MiB / 15360MiB |      0%      Default |\n",
            "|                                         |                      |                  N/A |\n",
            "+-----------------------------------------+----------------------+----------------------+\n",
            "                                                                                         \n",
            "+---------------------------------------------------------------------------------------+\n",
            "| Processes:                                                                            |\n",
            "|  GPU   GI   CI        PID   Type   Process name                            GPU Memory |\n",
            "|        ID   ID                                                             Usage      |\n",
            "|=======================================================================================|\n",
            "|  No running processes found                                                           |\n",
            "+---------------------------------------------------------------------------------------+\n"
          ]
        }
      ]
    },
    {
      "cell_type": "markdown",
      "source": [],
      "metadata": {
        "id": "3BE38pejRVsd"
      }
    },
    {
      "cell_type": "markdown",
      "source": [
        "## 1. Data (preparing and loading)\n",
        "\n",
        "ML is a game of two parts:\n",
        "1. Get data into a numerical representation\n",
        "2. Biuld a model to learn patterns in that numeral data"
      ],
      "metadata": {
        "id": "AJNR2_PPRXFm"
      }
    },
    {
      "cell_type": "code",
      "source": [],
      "metadata": {
        "id": "rFkSt3QqRC58"
      },
      "execution_count": null,
      "outputs": []
    },
    {
      "cell_type": "markdown",
      "source": [
        "# First Model\n",
        "Using linear regression with known **paremters** to train a basic model\n",
        "\n"
      ],
      "metadata": {
        "id": "qMWDaYBlRt18"
      }
    },
    {
      "cell_type": "code",
      "source": [
        "## Create *known* parameters\n",
        "weight = 0.7\n",
        "bias = 0.3\n",
        "\n",
        "## Create\n",
        "start = 0\n",
        "end = 1\n",
        "step = 0.02\n",
        "X = torch.arange(start, end, step).unsqueeze(dim=1)\n",
        "y = weight * X + bias\n",
        "\n",
        "X[:10], y[:10], len(X), len(y)"
      ],
      "metadata": {
        "colab": {
          "base_uri": "https://localhost:8080/"
        },
        "id": "18BY9pimSFFi",
        "outputId": "e04b1591-1693-4e48-a30f-4a664715af77"
      },
      "execution_count": null,
      "outputs": [
        {
          "output_type": "execute_result",
          "data": {
            "text/plain": [
              "(tensor([[0.0000],\n",
              "         [0.0200],\n",
              "         [0.0400],\n",
              "         [0.0600],\n",
              "         [0.0800],\n",
              "         [0.1000],\n",
              "         [0.1200],\n",
              "         [0.1400],\n",
              "         [0.1600],\n",
              "         [0.1800]]),\n",
              " tensor([[0.3000],\n",
              "         [0.3140],\n",
              "         [0.3280],\n",
              "         [0.3420],\n",
              "         [0.3560],\n",
              "         [0.3700],\n",
              "         [0.3840],\n",
              "         [0.3980],\n",
              "         [0.4120],\n",
              "         [0.4260]]),\n",
              " 50,\n",
              " 50)"
            ]
          },
          "metadata": {},
          "execution_count": 4
        }
      ]
    },
    {
      "cell_type": "code",
      "source": [],
      "metadata": {
        "id": "32bUbFEaTMVL"
      },
      "execution_count": null,
      "outputs": []
    },
    {
      "cell_type": "code",
      "source": [
        "## Splitting data into training and test sets (split)\n",
        "### Three Datasets\n",
        "# 1. training set\n",
        "# 2. validation set\n",
        "# 3. test set\n",
        "\n",
        "### Create train/split\n",
        "train_split = int(0.8 * len(X))\n",
        "X_train, y_train, = X[:train_split], y[:train_split]\n",
        "X_test, y_test = X[train_split:], y[train_split:]\n",
        "\n",
        "# training features\n",
        "print(len(X_train))\n",
        "# training labels\n",
        "print(len(y_train))\n",
        "# testing features\n",
        "print(len(X_test))\n",
        "# testing labels\n",
        "print(len(y_test))"
      ],
      "metadata": {
        "colab": {
          "base_uri": "https://localhost:8080/"
        },
        "id": "FL0GaNJRSgMZ",
        "outputId": "de299e84-aa7a-4777-8306-400753430548"
      },
      "execution_count": null,
      "outputs": [
        {
          "output_type": "stream",
          "name": "stdout",
          "text": [
            "40\n",
            "40\n",
            "10\n",
            "10\n"
          ]
        }
      ]
    },
    {
      "cell_type": "code",
      "source": [
        "## Visualize Data\n",
        "\n",
        "def plot_predictions(train_data=X_train,\n",
        "                     train_labels=y_train,\n",
        "                     test_data=X_test,\n",
        "                     test_labels=y_test,\n",
        "                     predictions=None):\n",
        "  \"\"\"\n",
        "  Plots training and test data and compares predictions\n",
        "  \"\"\"\n",
        "\n",
        "  # plot training data in blue\n",
        "  plt.scatter(train_data, train_labels, c=\"b\", s=4, label=\"Training data\")\n",
        "\n",
        "  # plot training data\n",
        "  plt.scatter(test_data, test_labels, c=\"g\", s=4, label=\"Testing data\")\n",
        "\n",
        "  # test for predictions\n",
        "  if predictions is not None:\n",
        "    # plot the predictions\n",
        "    plt.scatter(test_data, predictions, c=\"r\", s=4, label=\"Predictions\")\n",
        "\n",
        "  # show legend\n",
        "  plt.legend(prop={\"size\": 14});"
      ],
      "metadata": {
        "id": "hAj-NbVBTECE"
      },
      "execution_count": null,
      "outputs": []
    },
    {
      "cell_type": "code",
      "source": [
        "plot_predictions();"
      ],
      "metadata": {
        "colab": {
          "base_uri": "https://localhost:8080/",
          "height": 430
        },
        "id": "1ekHdPmWUsgH",
        "outputId": "915884ec-275c-46c5-c24f-89868b4020c4"
      },
      "execution_count": null,
      "outputs": [
        {
          "output_type": "display_data",
          "data": {
            "text/plain": [
              "<Figure size 640x480 with 1 Axes>"
            ],
            "image/png": "[encoded data removed]"
          },
          "metadata": {}
        }
      ]
    },
    {
      "cell_type": "code",
      "source": [
        "## Build Linear Regression Model Class\n",
        "\n",
        "class LinearRegressionModel(nn.Module):\n",
        "  def __init__(self):\n",
        "    super().__init__()\n",
        "\n",
        "    # initialize model parameters\n",
        "    self.weights = nn.Parameter(torch.randn(1, # start with a random weight and try to adjust it to the ideal weight\n",
        "                                            requires_grad=True, # can be updated with grandient decent\n",
        "                                            dtype=torch.float))\n",
        "\n",
        "    self.bias = nn.Parameter(torch.rand(1,# start with a random bias and try to adjust it to the ideal bias\n",
        "                                        requires_grad=True,\n",
        "                                        dtype=float))\n",
        "\n",
        "  # forward method to define the computation of the model\n",
        "  # this method always gets called when an instance of the class is called\n",
        "  # and will override the default method\n",
        "  def forward(self, x: torch.Tensor) -> torch.Tensor:\n",
        "    return self.weights * x + self.bias\n",
        "\n",
        "\n"
      ],
      "metadata": {
        "id": "zznnhsYWXwdU"
      },
      "execution_count": null,
      "outputs": []
    },
    {
      "cell_type": "code",
      "source": [
        "# Inspect the model\n",
        "\n",
        "# Create random seed\n",
        "torch.manual_seed(42)\n",
        "\n",
        "# create an instance of the model\n",
        "model_0 = LinearRegressionModel()\n",
        "\n",
        "list(model_0.parameters())"
      ],
      "metadata": {
        "colab": {
          "base_uri": "https://localhost:8080/"
        },
        "id": "UvdKW_boZBWs",
        "outputId": "bb67b216-eb20-48b5-cd57-281def55575b"
      },
      "execution_count": null,
      "outputs": [
        {
          "output_type": "execute_result",
          "data": {
            "text/plain": [
              "[Parameter containing:\n",
              " tensor([0.3367], requires_grad=True),\n",
              " Parameter containing:\n",
              " tensor([0.1236], dtype=torch.float64, requires_grad=True)]"
            ]
          },
          "metadata": {},
          "execution_count": 9
        }
      ]
    },
    {
      "cell_type": "code",
      "source": [
        "# list named parameters\n",
        "model_0.state_dict()"
      ],
      "metadata": {
        "colab": {
          "base_uri": "https://localhost:8080/"
        },
        "id": "n3q8MrEsd7nX",
        "outputId": "e365c34e-865c-402f-a529-f55beb084aba"
      },
      "execution_count": null,
      "outputs": [
        {
          "output_type": "execute_result",
          "data": {
            "text/plain": [
              "OrderedDict([('weights', tensor([0.3367])),\n",
              "             ('bias', tensor([0.1236], dtype=torch.float64))])"
            ]
          },
          "metadata": {},
          "execution_count": 10
        }
      ]
    },
    {
      "cell_type": "code",
      "source": [
        "weight, bias\n"
      ],
      "metadata": {
        "colab": {
          "base_uri": "https://localhost:8080/"
        },
        "id": "BA5c509Mevd5",
        "outputId": "9bcc003c-36da-40fc-a5ea-0930d822c468"
      },
      "execution_count": null,
      "outputs": [
        {
          "output_type": "execute_result",
          "data": {
            "text/plain": [
              "(0.7, 0.3)"
            ]
          },
          "metadata": {},
          "execution_count": 11
        }
      ]
    },
    {
      "cell_type": "code",
      "source": [
        "# predict y_test based on X_test with current data\n",
        "with torch.inference_mode():\n",
        "\n",
        "  # pass the model test data and save the output\n",
        "  y_preds = model_0(X_test)\n",
        "\n",
        "# print the output\n",
        "y_preds"
      ],
      "metadata": {
        "colab": {
          "base_uri": "https://localhost:8080/"
        },
        "id": "uBM_LMdQe6zB",
        "outputId": "51f60d83-fe74-49d9-9068-f0575556a758"
      },
      "execution_count": null,
      "outputs": [
        {
          "output_type": "execute_result",
          "data": {
            "text/plain": [
              "tensor([[0.3929],\n",
              "        [0.3997],\n",
              "        [0.4064],\n",
              "        [0.4131],\n",
              "        [0.4199],\n",
              "        [0.4266],\n",
              "        [0.4333],\n",
              "        [0.4401],\n",
              "        [0.4468],\n",
              "        [0.4535]], dtype=torch.float64)"
            ]
          },
          "metadata": {},
          "execution_count": 12
        }
      ]
    },
    {
      "cell_type": "code",
      "source": [
        "y_test"
      ],
      "metadata": {
        "colab": {
          "base_uri": "https://localhost:8080/"
        },
        "id": "v5DtMrrwfsc5",
        "outputId": "4c75fc1a-c36b-419c-fae3-92f1b69c43b3"
      },
      "execution_count": null,
      "outputs": [
        {
          "output_type": "execute_result",
          "data": {
            "text/plain": [
              "tensor([[0.8600],\n",
              "        [0.8740],\n",
              "        [0.8880],\n",
              "        [0.9020],\n",
              "        [0.9160],\n",
              "        [0.9300],\n",
              "        [0.9440],\n",
              "        [0.9580],\n",
              "        [0.9720],\n",
              "        [0.9860]])"
            ]
          },
          "metadata": {},
          "execution_count": 13
        }
      ]
    },
    {
      "cell_type": "code",
      "source": [
        "# plot the predictions from the untrained model\n",
        "plot_predictions(predictions=y_preds)"
      ],
      "metadata": {
        "colab": {
          "base_uri": "https://localhost:8080/",
          "height": 430
        },
        "id": "KDAe62wFgS_N",
        "outputId": "ac85b1b7-f5a3-46ed-afd0-fab3a2082512"
      },
      "execution_count": null,
      "outputs": [
        {
          "output_type": "display_data",
          "data": {
            "text/plain": [
              "<Figure size 640x480 with 1 Axes>"
            ],
            "image/png": "[encoded data removed]"
          },
          "metadata": {}
        }
      ]
    },
    {
      "cell_type": "markdown",
      "source": [
        "## Train the model\n",
        "\n",
        "Things needed:\n",
        "* **Loss Function** - measure of how wrong the model is, lower is better\n",
        "* **Optimizer** takes loss into account and adjusts the model's params\n",
        "* Training loop\n",
        "* Testing loop"
      ],
      "metadata": {
        "id": "PYUyQeKnjVUc"
      }
    },
    {
      "cell_type": "code",
      "source": [
        "# set up loss function\n",
        "loss_fn = nn.L1Loss()\n",
        "\n",
        "# set up an optimizer\n",
        "optimizer = torch.optim.SGD(params=model_0.parameters(),\n",
        "                            lr=0.01) # learning rate. small value will adjust the param in a small step"
      ],
      "metadata": {
        "id": "obMMDntGjTvb"
      },
      "execution_count": null,
      "outputs": []
    },
    {
      "cell_type": "code",
      "source": [],
      "metadata": {
        "id": "VewsZmnqkWXg"
      },
      "execution_count": null,
      "outputs": []
    },
    {
      "cell_type": "markdown",
      "source": [
        "### Training loop\n",
        "0. loop through data\n",
        "1. forward pass (moove data through the `forward()` functions)\n",
        "2. Calculate lost (compare forward pass prediction to ground truth labels)\n",
        "3. optimizer zero grad\n",
        "4. Loss backward - move backwards through the network to calculate the gradients of each of the params of the model with respect ot the loss\n",
        "5. Optimizer step = use the optimizer ot adjust the model's params and try to improve the loss (**gradient descent**)"
      ],
      "metadata": {
        "id": "AZ_hsiPNnLyn"
      }
    },
    {
      "cell_type": "code",
      "source": [
        "torch.manual_seed(42)\n",
        "\n",
        "# epoch == loop through the data\n",
        "epochs = 200\n",
        "\n",
        "# track different experiments to compare models\n",
        "epoch_count = []\n",
        "loss_values = []\n",
        "test_loss_values = []\n",
        "\n",
        "# 0. loop through data\n",
        "for epoch in range(epochs):\n",
        "\n",
        "  ################\n",
        "  ### Training ###\n",
        "  ################\n",
        "\n",
        "  # set the model to training mode\n",
        "  model_0.train() # train mode in PyTorch sets all parameters that require gradients to require gradients\n",
        "\n",
        "  # 1. Forward pass\n",
        "  y_pred = model_0(X_train)\n",
        "\n",
        "  # 2. Calculate Loss\n",
        "  loss = loss_fn(y_pred, y_train)\n",
        "\n",
        "  # 3. Zero the gradients of the optimizer (they accumulate by default)\n",
        "  optimizer.zero_grad()\n",
        "\n",
        "  # 4. Perform backpropagation on the loss iwth repsect to the parameters of the model\n",
        "  loss.backward()\n",
        "\n",
        "  # 5. Step the optimizer (perform gradient descent)\n",
        "  optimizer.step() # by default how the optimizer changes will accumulate through the loop. this will need to be set to zero step three above\n",
        "\n",
        "  ###############\n",
        "  ### Testing ###\n",
        "  ###############\n",
        "\n",
        "  # turns off different settings we don't need in the model during evanualtion and testing\n",
        "  model_0.eval()\n",
        "\n",
        "  # turns off gradient tracking and a couple of things behind the scenes\n",
        "  with torch.inference_mode():\n",
        "    # 1. Forward pass\n",
        "    test_pred = model_0(X_test)\n",
        "\n",
        "    # 2. Calculate the loss\n",
        "    test_loss = loss_fn(test_pred, y_test)\n",
        "\n",
        "  if epoch % 10 == 0:\n",
        "    epoch_count.append(epoch)\n",
        "    loss_values.append(loss)\n",
        "    test_loss_values.append(test_loss)\n",
        "\n",
        "    print(f\"Epoch: {epoch} | Loss: {loss} | Test loss: {test_loss}\")\n",
        "    # 3.\n",
        "\n",
        "    print(model_0.state_dict())"
      ],
      "metadata": {
        "id": "PEgxD1JSnTQB",
        "colab": {
          "base_uri": "https://localhost:8080/"
        },
        "outputId": "b3ffb571-a851-426d-b48b-b8f6e69d377f"
      },
      "execution_count": null,
      "outputs": [
        {
          "output_type": "stream",
          "name": "stdout",
          "text": [
            "Epoch: 0 | Loss: 0.3181046841300179 | Test loss: 0.4862885119004262\n",
            "OrderedDict([('weights', tensor([0.3406])), ('bias', tensor([0.1336], dtype=torch.float64))])\n",
            "Epoch: 10 | Loss: 0.20289471868724487 | Test loss: 0.3515785874409687\n",
            "OrderedDict([('weights', tensor([0.3796])), ('bias', tensor([0.2336], dtype=torch.float64))])\n",
            "Epoch: 20 | Loss: 0.09230161711291159 | Test loss: 0.2209487388415347\n",
            "OrderedDict([('weights', tensor([0.4185])), ('bias', tensor([0.3296], dtype=torch.float64))])\n",
            "Epoch: 30 | Loss: 0.05343686922504778 | Test loss: 0.1459185384793292\n",
            "OrderedDict([('weights', tensor([0.4517])), ('bias', tensor([0.3751], dtype=torch.float64))])\n",
            "Epoch: 40 | Loss: 0.04533072821377819 | Test loss: 0.1135763742012987\n",
            "OrderedDict([('weights', tensor([0.4757])), ('bias', tensor([0.3861], dtype=torch.float64))])\n",
            "Epoch: 50 | Loss: 0.041489466948145565 | Test loss: 0.0991663576645861\n",
            "OrderedDict([('weights', tensor([0.4947])), ('bias', tensor([0.3836], dtype=torch.float64))])\n",
            "Epoch: 60 | Loss: 0.037999466188894174 | Test loss: 0.08814634576273064\n",
            "OrderedDict([('weights', tensor([0.5127])), ('bias', tensor([0.3786], dtype=torch.float64))])\n",
            "Epoch: 70 | Loss: 0.034560656080292095 | Test loss: 0.07987389233541589\n",
            "OrderedDict([('weights', tensor([0.5298])), ('bias', tensor([0.3716], dtype=torch.float64))])\n",
            "Epoch: 80 | Loss: 0.03112493634203366 | Test loss: 0.07228833523225879\n",
            "OrderedDict([('weights', tensor([0.5468])), ('bias', tensor([0.3641], dtype=torch.float64))])\n",
            "Epoch: 90 | Loss: 0.02769583263517315 | Test loss: 0.06401587882471191\n",
            "OrderedDict([('weights', tensor([0.5639])), ('bias', tensor([0.3571], dtype=torch.float64))])\n",
            "Epoch: 100 | Loss: 0.024257021851362238 | Test loss: 0.05574342837762929\n",
            "OrderedDict([('weights', tensor([0.5811])), ('bias', tensor([0.3501], dtype=torch.float64))])\n",
            "Epoch: 110 | Loss: 0.020822976923714476 | Test loss: 0.04815786233377559\n",
            "OrderedDict([('weights', tensor([0.5980])), ('bias', tensor([0.3426], dtype=torch.float64))])\n",
            "Epoch: 120 | Loss: 0.017392199500547278 | Test loss: 0.03988540890646084\n",
            "OrderedDict([('weights', tensor([0.6152])), ('bias', tensor([0.3356], dtype=torch.float64))])\n",
            "Epoch: 130 | Loss: 0.013953388996133173 | Test loss: 0.031612961439610565\n",
            "OrderedDict([('weights', tensor([0.6324])), ('bias', tensor([0.3286], dtype=torch.float64))])\n",
            "Epoch: 140 | Loss: 0.010521016760337235 | Test loss: 0.024027395395756868\n",
            "OrderedDict([('weights', tensor([0.6493])), ('bias', tensor([0.3211], dtype=torch.float64))])\n",
            "Epoch: 150 | Loss: 0.007088565620863385 | Test loss: 0.015754938988209767\n",
            "OrderedDict([('weights', tensor([0.6665])), ('bias', tensor([0.3141], dtype=torch.float64))])\n",
            "Epoch: 160 | Loss: 0.0036497559546395607 | Test loss: 0.007482494501591841\n",
            "OrderedDict([('weights', tensor([0.6836])), ('bias', tensor([0.3071], dtype=torch.float64))])\n",
            "Epoch: 170 | Loss: 0.0025001050897027755 | Test loss: 0.00829629978704347\n",
            "OrderedDict([('weights', tensor([0.6986])), ('bias', tensor([0.3096], dtype=torch.float64))])\n",
            "Epoch: 180 | Loss: 0.0025001050897027755 | Test loss: 0.00829629978704347\n",
            "OrderedDict([('weights', tensor([0.6986])), ('bias', tensor([0.3096], dtype=torch.float64))])\n",
            "Epoch: 190 | Loss: 0.0025001050897027755 | Test loss: 0.00829629978704347\n",
            "OrderedDict([('weights', tensor([0.6986])), ('bias', tensor([0.3096], dtype=torch.float64))])\n"
          ]
        }
      ]
    },
    {
      "cell_type": "code",
      "source": [
        "import numpy as np\n",
        "\n",
        "# plot the loss curves\n",
        "\n",
        "# note: plt uses numpy. need to convert the `loss_values` from tensor to numpay array and run on the cpu\n",
        "plt.plot(epoch_count, np.array(torch.tensor(loss_values).cpu().numpy()), label=\"Train loss\")\n",
        "plt.plot(epoch_count, test_loss_values, label=\"Test loss\")\n",
        "plt.title(\"Training and test loss curves\")\n",
        "plt.ylabel(\"Loss\")\n",
        "plt.xlabel(\"Epochs\")\n",
        "plt.legend()"
      ],
      "metadata": {
        "colab": {
          "base_uri": "https://localhost:8080/",
          "height": 489
        },
        "id": "U0IthgmiZ7_H",
        "outputId": "72c79e9b-bc55-4145-86a3-c101e36ba112"
      },
      "execution_count": null,
      "outputs": [
        {
          "output_type": "execute_result",
          "data": {
            "text/plain": [
              "<matplotlib.legend.Legend at 0x7c77a72540a0>"
            ]
          },
          "metadata": {},
          "execution_count": 17
        },
        {
          "output_type": "display_data",
          "data": {
            "text/plain": [
              "<Figure size 640x480 with 1 Axes>"
            ],
            "image/png": "[encoded data removed]"
          },
          "metadata": {}
        }
      ]
    },
    {
      "cell_type": "code",
      "source": [
        "model_0.state_dict()"
      ],
      "metadata": {
        "colab": {
          "base_uri": "https://localhost:8080/"
        },
        "id": "e8AFgv2cWrW2",
        "outputId": "2b0bab39-1682-47c8-a61c-0c133b52e562"
      },
      "execution_count": null,
      "outputs": [
        {
          "output_type": "execute_result",
          "data": {
            "text/plain": [
              "OrderedDict([('weights', tensor([0.6947])),\n",
              "             ('bias', tensor([0.2996], dtype=torch.float64))])"
            ]
          },
          "metadata": {},
          "execution_count": 18
        }
      ]
    },
    {
      "cell_type": "code",
      "source": [
        "weight, bias"
      ],
      "metadata": {
        "colab": {
          "base_uri": "https://localhost:8080/"
        },
        "id": "U9R3Mh0mZeAy",
        "outputId": "157d1a14-3775-4ee0-f6e2-f84673cfaa86"
      },
      "execution_count": null,
      "outputs": [
        {
          "output_type": "execute_result",
          "data": {
            "text/plain": [
              "(0.7, 0.3)"
            ]
          },
          "metadata": {},
          "execution_count": 19
        }
      ]
    },
    {
      "cell_type": "code",
      "source": [
        "with torch.inference_mode():\n",
        "  y_preds_new = model_0(X_test)"
      ],
      "metadata": {
        "id": "CV9CbFtEaqRX"
      },
      "execution_count": null,
      "outputs": []
    },
    {
      "cell_type": "code",
      "source": [
        "plot_predictions(predictions=y_preds_new)"
      ],
      "metadata": {
        "colab": {
          "base_uri": "https://localhost:8080/",
          "height": 430
        },
        "id": "J3uuDWtdbIQv",
        "outputId": "d7836e3f-1124-491c-cd35-6ecf32cb394a"
      },
      "execution_count": null,
      "outputs": [
        {
          "output_type": "display_data",
          "data": {
            "text/plain": [
              "<Figure size 640x480 with 1 Axes>"
            ],
            "image/png": "[encoded data removed]"
          },
          "metadata": {}
        }
      ]
    },
    {
      "cell_type": "markdown",
      "source": [
        "It's getting closer! 👆"
      ],
      "metadata": {
        "id": "4n9rx-X5bYvo"
      }
    },
    {
      "cell_type": "markdown",
      "source": [
        "## Saving a model in PyTorch\n",
        "\n",
        "### Three ways\n",
        "1. `torch.save()` - saves the model object in Python pickle\n",
        "2. `torch.load()` - loads a saved model object\n",
        "3. `torch.nn.Module.load_state_dict()` - loads the model's saved dictionary"
      ],
      "metadata": {
        "id": "K-rSxhh0iHKL"
      }
    },
    {
      "cell_type": "code",
      "source": [
        "# save the model\n",
        "from pathlib import Path\n",
        "\n",
        "# 1. Create models directory\n",
        "MODEL_PATH = Path(\"models\")\n",
        "MODEL_PATH.mkdir(parents=True, exist_ok=True)\n",
        "\n",
        "# 2. Create model name to save\n",
        "MODEL_NAME = \"01_pytorch_workflow_model_01.pth\"\n",
        "MODEL_SAVE_PATH = MODEL_PATH / MODEL_NAME\n",
        "\n",
        "# 3. Save the model dict\n",
        "print(f\"Saving model to: {MODEL_SAVE_PATH}\")\n",
        "torch.save(obj=model_0.state_dict(), f=MODEL_SAVE_PATH)"
      ],
      "metadata": {
        "colab": {
          "base_uri": "https://localhost:8080/"
        },
        "id": "2d-QRTMFbM64",
        "outputId": "9aa3b260-4a16-4708-f53b-7497e1184e52"
      },
      "execution_count": null,
      "outputs": [
        {
          "output_type": "stream",
          "name": "stdout",
          "text": [
            "Saving model to: models/01_pytorch_workflow_model_01.pth\n"
          ]
        }
      ]
    },
    {
      "cell_type": "code",
      "source": [
        "ls -alh models"
      ],
      "metadata": {
        "colab": {
          "base_uri": "https://localhost:8080/"
        },
        "id": "JPewk57gjC6F",
        "outputId": "73e93ac3-9435-4f5d-da9b-5c142a2d0888"
      },
      "execution_count": null,
      "outputs": [
        {
          "output_type": "stream",
          "name": "stdout",
          "text": [
            "total 12K\n",
            "drwxr-xr-x 2 root root 4.0K Mar 14 11:00 \u001b[0m\u001b[01;34m.\u001b[0m/\n",
            "drwxr-xr-x 1 root root 4.0K Mar 14 11:00 \u001b[01;34m..\u001b[0m/\n",
            "-rw-r--r-- 1 root root 1.8K Mar 14 11:00 01_pytorch_workflow_model_01.pth\n"
          ]
        }
      ]
    },
    {
      "cell_type": "markdown",
      "source": [
        "## Loading the model\n",
        "\n",
        "Loading a model is initializing a new model class and loadin gin the `.state_dict()`\n"
      ],
      "metadata": {
        "id": "ofhasQkvkqGO"
      }
    },
    {
      "cell_type": "code",
      "source": [
        "model_0.state_dict()"
      ],
      "metadata": {
        "colab": {
          "base_uri": "https://localhost:8080/"
        },
        "id": "T6DaHGD-kUag",
        "outputId": "fc643ff5-ab12-46b2-b8bd-24932e2258f8"
      },
      "execution_count": null,
      "outputs": [
        {
          "output_type": "execute_result",
          "data": {
            "text/plain": [
              "OrderedDict([('weights', tensor([0.6947])),\n",
              "             ('bias', tensor([0.2996], dtype=torch.float64))])"
            ]
          },
          "metadata": {},
          "execution_count": 24
        }
      ]
    },
    {
      "cell_type": "code",
      "source": [
        "# init new instance\n",
        "loaded_model_0 = LinearRegressionModel()\n",
        "\n",
        "# load state dict\n",
        "loaded_model_0.load_state_dict(torch.load(f=MODEL_SAVE_PATH))"
      ],
      "metadata": {
        "colab": {
          "base_uri": "https://localhost:8080/"
        },
        "id": "6bbOEvSbk8qY",
        "outputId": "ec56b112-24c7-41f0-d081-ba5d74580141"
      },
      "execution_count": null,
      "outputs": [
        {
          "output_type": "execute_result",
          "data": {
            "text/plain": [
              "<All keys matched successfully>"
            ]
          },
          "metadata": {},
          "execution_count": 25
        }
      ]
    },
    {
      "cell_type": "code",
      "source": [
        "loaded_model_0.state_dict()"
      ],
      "metadata": {
        "colab": {
          "base_uri": "https://localhost:8080/"
        },
        "id": "kUn7j-4olF8u",
        "outputId": "3179ba46-b780-44e3-e621-4f9ffd7d6fc6"
      },
      "execution_count": null,
      "outputs": [
        {
          "output_type": "execute_result",
          "data": {
            "text/plain": [
              "OrderedDict([('weights', tensor([0.6947])),\n",
              "             ('bias', tensor([0.2996], dtype=torch.float64))])"
            ]
          },
          "metadata": {},
          "execution_count": 26
        }
      ]
    },
    {
      "cell_type": "code",
      "source": [
        "# make predictions with trained model\n",
        "loaded_model_0.eval()\n",
        "with torch.inference_mode():\n",
        "  loaded_model_preds = loaded_model_0(X_test)\n",
        "\n",
        "loaded_model_preds"
      ],
      "metadata": {
        "colab": {
          "base_uri": "https://localhost:8080/"
        },
        "id": "8hN9PBPwlZ_n",
        "outputId": "2fe026f0-6f1c-4c3f-dd12-e78d9dbde353"
      },
      "execution_count": null,
      "outputs": [
        {
          "output_type": "execute_result",
          "data": {
            "text/plain": [
              "tensor([[0.8553],\n",
              "        [0.8692],\n",
              "        [0.8831],\n",
              "        [0.8970],\n",
              "        [0.9109],\n",
              "        [0.9248],\n",
              "        [0.9387],\n",
              "        [0.9526],\n",
              "        [0.9665],\n",
              "        [0.9803]], dtype=torch.float64)"
            ]
          },
          "metadata": {},
          "execution_count": 27
        }
      ]
    },
    {
      "cell_type": "code",
      "source": [
        "# make predictions oritinal model\n",
        "model_0.eval()\n",
        "with torch.inference_mode():\n",
        "  y_preds = model_0(X_test)\n",
        "\n",
        "y_preds"
      ],
      "metadata": {
        "colab": {
          "base_uri": "https://localhost:8080/"
        },
        "id": "a3lYtU1zlugK",
        "outputId": "520a8d5a-1a49-4dd5-c926-5f9c771351bd"
      },
      "execution_count": null,
      "outputs": [
        {
          "output_type": "execute_result",
          "data": {
            "text/plain": [
              "tensor([[0.8553],\n",
              "        [0.8692],\n",
              "        [0.8831],\n",
              "        [0.8970],\n",
              "        [0.9109],\n",
              "        [0.9248],\n",
              "        [0.9387],\n",
              "        [0.9526],\n",
              "        [0.9665],\n",
              "        [0.9803]], dtype=torch.float64)"
            ]
          },
          "metadata": {},
          "execution_count": 28
        }
      ]
    },
    {
      "cell_type": "code",
      "source": [
        "# compare loaded model preds with original preds\n",
        "y_preds == loaded_model_preds"
      ],
      "metadata": {
        "colab": {
          "base_uri": "https://localhost:8080/"
        },
        "id": "x0M_7lrKlpix",
        "outputId": "c7767787-d90f-4fdf-bb09-1c9c47c3ef48"
      },
      "execution_count": null,
      "outputs": [
        {
          "output_type": "execute_result",
          "data": {
            "text/plain": [
              "tensor([[True],\n",
              "        [True],\n",
              "        [True],\n",
              "        [True],\n",
              "        [True],\n",
              "        [True],\n",
              "        [True],\n",
              "        [True],\n",
              "        [True],\n",
              "        [True]])"
            ]
          },
          "metadata": {},
          "execution_count": 29
        }
      ]
    },
    {
      "cell_type": "code",
      "source": [
        "# create a new model using layer for params instead of creating them manually\n",
        "class LinearRegressionModelV2(nn.Module):\n",
        "  def __init__(self):\n",
        "    super().__init__()\n",
        "    # use nn.Linear() for creating model params, using linear transform\n",
        "    self.linear_layer = nn.Linear(in_features=1,\n",
        "                                  out_features=1)\n",
        "\n",
        "    def forward(self, x: torch.Tensor) -> torch.Tensor:\n",
        "      return self.linear_layer(x)\n",
        "\n",
        "\n",
        "torch.manual_seed(42)\n",
        "model_1 = LinearRegressionModelV2()\n",
        "model_1, model_1.state_dict()"
      ],
      "metadata": {
        "colab": {
          "base_uri": "https://localhost:8080/"
        },
        "id": "ccYhIF1JmSwA",
        "outputId": "5445e311-6e2b-47c2-96e5-1468f3739ef9"
      },
      "execution_count": null,
      "outputs": [
        {
          "output_type": "execute_result",
          "data": {
            "text/plain": [
              "(LinearRegressionModelV2(\n",
              "   (linear_layer): Linear(in_features=1, out_features=1, bias=True)\n",
              " ),\n",
              " OrderedDict([('linear_layer.weight', tensor([[0.7645]])),\n",
              "              ('linear_layer.bias', tensor([0.8300]))]))"
            ]
          },
          "metadata": {},
          "execution_count": 35
        }
      ]
    },
    {
      "cell_type": "code",
      "source": [],
      "metadata": {
        "id": "NPvaFAiwp09S"
      },
      "execution_count": null,
      "outputs": []
    }
  ]
}